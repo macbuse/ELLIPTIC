{
 "cells": [
  {
   "cell_type": "code",
   "execution_count": null,
   "id": "55121154-e3f5-4880-b121-7cd37d48ce48",
   "metadata": {},
   "outputs": [],
   "source": [
    "'weather', 'cities', 'stations', 'current', 'current2', 'advice','forecast'"
   ]
  },
  {
   "cell_type": "code",
   "execution_count": 14,
   "id": "9c9840df-55bd-4aad-bb25-57d168a25aca",
   "metadata": {},
   "outputs": [],
   "source": [
    "import requests\n",
    "import re\n",
    "url = 'https://www.iqair.com/france/auvergne-rhone-alpes/grenoble'\n",
    "r = requests.get(url=url)"
   ]
  },
  {
   "cell_type": "code",
   "execution_count": 15,
   "id": "911e7408-c7fc-4cd1-a708-90c885d3964c",
   "metadata": {},
   "outputs": [],
   "source": [
    "from bs4 import BeautifulSoup\n",
    "soup = BeautifulSoup(r.text,  \"lxml\")\n",
    "tables = soup.findAll(\"table\")\n",
    "\n",
    "row = re.compile('<tr.*?>(.*?)</tr>')\n",
    "cell = re.compile('<td.*?>(.*?)</td>')\n",
    "aqi = re.compile('>(\\d+)</b>')\n",
    "\n",
    "cells = cell.findall(str(tables[6]) )\n",
    "days = cells[::5]\n",
    "indice = aqi.findall(str(tables[6]))"
   ]
  },
  {
   "cell_type": "code",
   "execution_count": 20,
   "id": "01dc8ad4-28bb-4b08-ad86-e168d092ca2b",
   "metadata": {},
   "outputs": [
    {
     "data": {
      "text/plain": [
       "('weather', 'cities', 'stations', 'current', 'current2', 'advice', 'forecast')"
      ]
     },
     "execution_count": 20,
     "metadata": {},
     "output_type": "execute_result"
    }
   ],
   "source": []
  },
  {
   "cell_type": "code",
   "execution_count": 121,
   "id": "39ff4306-4570-4172-b9e3-e84f4b450d07",
   "metadata": {},
   "outputs": [],
   "source": []
  },
  {
   "cell_type": "code",
   "execution_count": 16,
   "id": "89c1be72-1915-44dd-b62d-1fea4698d218",
   "metadata": {},
   "outputs": [],
   "source": [
    "\n",
    "from datetime import datetime\n",
    "import csv\n",
    "\n",
    "now = datetime.now() # current date and time\n",
    "\n",
    "data = [1]*21\n",
    "data[0] = now.strftime(\"%m/%d/%Y %H:%M:%S\")\n",
    "data[1::2] = days\n",
    "data[2::2] = indice\n",
    "\n",
    "with open('pollution.csv', 'a') as fp:\n",
    "    spamwriter = csv.writer(fp)\n",
    "    spamwriter.writerow(data)"
   ]
  },
  {
   "cell_type": "code",
   "execution_count": 110,
   "id": "7ac844d0-b7cb-4b01-8751-850fe2019fb7",
   "metadata": {},
   "outputs": [],
   "source": []
  },
  {
   "cell_type": "code",
   "execution_count": 68,
   "id": "38ecbf66-1d9b-4f69-9a00-107c3d56bde0",
   "metadata": {},
   "outputs": [],
   "source": [
    "charts = soup.findAll('div', {'class' : \"chart\"})"
   ]
  },
  {
   "cell_type": "code",
   "execution_count": 17,
   "id": "9b0d2109-36e2-4b0d-b7ef-f75c4974835e",
   "metadata": {},
   "outputs": [],
   "source": [
    "import pandas as pd\n",
    "df = pd.read_csv('./pollution.csv')\n"
   ]
  },
  {
   "cell_type": "code",
   "execution_count": 18,
   "id": "b045579a-bfda-4fb0-9d36-6a87ace8b7c7",
   "metadata": {},
   "outputs": [
    {
     "data": {
      "text/html": [
       "<div>\n",
       "<style scoped>\n",
       "    .dataframe tbody tr th:only-of-type {\n",
       "        vertical-align: middle;\n",
       "    }\n",
       "\n",
       "    .dataframe tbody tr th {\n",
       "        vertical-align: top;\n",
       "    }\n",
       "\n",
       "    .dataframe thead th {\n",
       "        text-align: right;\n",
       "    }\n",
       "</style>\n",
       "<table border=\"1\" class=\"dataframe\">\n",
       "  <thead>\n",
       "    <tr style=\"text-align: right;\">\n",
       "      <th></th>\n",
       "      <th>03/21/2022 10:28:46</th>\n",
       "      <th>Friday, Mar 18</th>\n",
       "      <th>82</th>\n",
       "      <th>Saturday, Mar 19</th>\n",
       "      <th>93</th>\n",
       "      <th>Sunday, Mar 20</th>\n",
       "      <th>71</th>\n",
       "      <th>Today</th>\n",
       "      <th>56</th>\n",
       "      <th>Tuesday, Mar 22</th>\n",
       "      <th>21</th>\n",
       "    </tr>\n",
       "  </thead>\n",
       "  <tbody>\n",
       "    <tr>\n",
       "      <th>0</th>\n",
       "      <td>03/21/2022 10:33:07</td>\n",
       "      <td>Friday, Mar 18</td>\n",
       "      <td>82</td>\n",
       "      <td>Saturday, Mar 19</td>\n",
       "      <td>93</td>\n",
       "      <td>Sunday, Mar 20</td>\n",
       "      <td>71</td>\n",
       "      <td>Today</td>\n",
       "      <td>65</td>\n",
       "      <td>Tuesday, Mar 22</td>\n",
       "      <td>21</td>\n",
       "    </tr>\n",
       "    <tr>\n",
       "      <th>1</th>\n",
       "      <td>03/22/2022 08:59:46</td>\n",
       "      <td>Saturday, Mar 19</td>\n",
       "      <td>93</td>\n",
       "      <td>Sunday, Mar 20</td>\n",
       "      <td>71</td>\n",
       "      <td>Monday, Mar 21</td>\n",
       "      <td>65</td>\n",
       "      <td>Today</td>\n",
       "      <td>66</td>\n",
       "      <td>Wednesday, Mar 23</td>\n",
       "      <td>20</td>\n",
       "    </tr>\n",
       "    <tr>\n",
       "      <th>2</th>\n",
       "      <td>03/23/2022 09:50:25</td>\n",
       "      <td>Sunday, Mar 20</td>\n",
       "      <td>71</td>\n",
       "      <td>Monday, Mar 21</td>\n",
       "      <td>65</td>\n",
       "      <td>Tuesday, Mar 22</td>\n",
       "      <td>66</td>\n",
       "      <td>Today</td>\n",
       "      <td>9</td>\n",
       "      <td>Thursday, Mar 24</td>\n",
       "      <td>24</td>\n",
       "    </tr>\n",
       "    <tr>\n",
       "      <th>3</th>\n",
       "      <td>03/24/2022 17:09:07</td>\n",
       "      <td>Monday, Mar 21</td>\n",
       "      <td>65</td>\n",
       "      <td>Tuesday, Mar 22</td>\n",
       "      <td>66</td>\n",
       "      <td>Wednesday, Mar 23</td>\n",
       "      <td>65</td>\n",
       "      <td>Today</td>\n",
       "      <td>45</td>\n",
       "      <td>Friday, Mar 25</td>\n",
       "      <td>29</td>\n",
       "    </tr>\n",
       "  </tbody>\n",
       "</table>\n",
       "</div>"
      ],
      "text/plain": [
       "   03/21/2022 10:28:46    Friday, Mar 18  82  Saturday, Mar 19  93  \\\n",
       "0  03/21/2022 10:33:07    Friday, Mar 18  82  Saturday, Mar 19  93   \n",
       "1  03/22/2022 08:59:46  Saturday, Mar 19  93    Sunday, Mar 20  71   \n",
       "2  03/23/2022 09:50:25    Sunday, Mar 20  71    Monday, Mar 21  65   \n",
       "3  03/24/2022 17:09:07    Monday, Mar 21  65   Tuesday, Mar 22  66   \n",
       "\n",
       "      Sunday, Mar 20  71  Today  56    Tuesday, Mar 22  21  \n",
       "0     Sunday, Mar 20  71  Today  65    Tuesday, Mar 22  21  \n",
       "1     Monday, Mar 21  65  Today  66  Wednesday, Mar 23  20  \n",
       "2    Tuesday, Mar 22  66  Today   9   Thursday, Mar 24  24  \n",
       "3  Wednesday, Mar 23  65  Today  45     Friday, Mar 25  29  "
      ]
     },
     "execution_count": 18,
     "metadata": {},
     "output_type": "execute_result"
    }
   ],
   "source": [
    "df.iloc[:,:11]"
   ]
  },
  {
   "cell_type": "code",
   "execution_count": 75,
   "id": "7b6ef2f1-fa8a-4449-aba7-f83030761ff1",
   "metadata": {},
   "outputs": [
    {
     "data": {
      "text/plain": [
       "str"
      ]
     },
     "execution_count": 75,
     "metadata": {},
     "output_type": "execute_result"
    }
   ],
   "source": []
  },
  {
   "cell_type": "code",
   "execution_count": 70,
   "id": "8a774840-c578-40b2-acd6-478c6fab073f",
   "metadata": {},
   "outputs": [],
   "source": [
    "svg = re.compile('<svg.*?>')"
   ]
  },
  {
   "cell_type": "code",
   "execution_count": 71,
   "id": "ec9a52aa-d01c-4598-b351-14648b383a82",
   "metadata": {},
   "outputs": [
    {
     "data": {
      "text/plain": [
       "['<svg aria-hidden=\"true\" version=\"1.1\" xmlns=\"http://www.w3.org/2000/svg\" xmlns:xlink=\"http://www.w3.org/1999/xlink\" style=\"position: absolute; width: 0; height: 0; overflow: hidden;\">']"
      ]
     },
     "execution_count": 71,
     "metadata": {},
     "output_type": "execute_result"
    }
   ],
   "source": [
    "svg.findall(r.text)"
   ]
  },
  {
   "cell_type": "code",
   "execution_count": 2,
   "id": "dcc2c609-c604-49a1-984d-9279c6242b7a",
   "metadata": {},
   "outputs": [],
   "source": [
    "url = 'https://api.atmo-aura.fr/api/v1/mesures/FR20062_02_11?api_token=e3d635a3247b8d6f09f996048453ef8a&format=geojson'"
   ]
  },
  {
   "cell_type": "code",
   "execution_count": 3,
   "id": "0c1ee3d0-8bdb-42a3-8a89-f82de1c3f62b",
   "metadata": {},
   "outputs": [
    {
     "data": {
      "text/plain": [
       "'https://api.atmo-aura.fr/api/v1/mesures/FR20062_02_11?api_token=e3d635a3247b8d6f09f996048453ef8a&format=geojson'"
      ]
     },
     "execution_count": 3,
     "metadata": {},
     "output_type": "execute_result"
    }
   ],
   "source": [
    "url"
   ]
  },
  {
   "cell_type": "code",
   "execution_count": 6,
   "id": "c96be192-40eb-4e28-8074-a517676306e0",
   "metadata": {},
   "outputs": [],
   "source": [
    "r = requests.get(url=url)"
   ]
  },
  {
   "cell_type": "code",
   "execution_count": 7,
   "id": "b55c43d8-e6eb-40b5-b040-9dfe329689d8",
   "metadata": {},
   "outputs": [
    {
     "data": {
      "text/plain": [
       "200"
      ]
     },
     "execution_count": 7,
     "metadata": {},
     "output_type": "execute_result"
    }
   ],
   "source": [
    "r.status_code\n"
   ]
  },
  {
   "cell_type": "code",
   "execution_count": 13,
   "id": "86db1609-ef94-4026-b4ac-84a71467e7ee",
   "metadata": {},
   "outputs": [],
   "source": [
    "with open('tmp.html','w') as fp:\n",
    "    fp.write(r.text)"
   ]
  },
  {
   "cell_type": "code",
   "execution_count": null,
   "id": "44e1ad1b-5e18-4739-97ae-f36a3607f8e3",
   "metadata": {},
   "outputs": [],
   "source": []
  }
 ],
 "metadata": {
  "kernelspec": {
   "display_name": "Python 3 (ipykernel)",
   "language": "python",
   "name": "python3"
  },
  "language_info": {
   "codemirror_mode": {
    "name": "ipython",
    "version": 3
   },
   "file_extension": ".py",
   "mimetype": "text/x-python",
   "name": "python",
   "nbconvert_exporter": "python",
   "pygments_lexer": "ipython3",
   "version": "3.8.12"
  },
  "widgets": {
   "application/vnd.jupyter.widget-state+json": {
    "state": {},
    "version_major": 2,
    "version_minor": 0
   }
  }
 },
 "nbformat": 4,
 "nbformat_minor": 5
}
