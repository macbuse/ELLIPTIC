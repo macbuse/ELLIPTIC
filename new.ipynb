{
 "cells": [
  {
   "cell_type": "code",
   "execution_count": 61,
   "id": "17eb3492-5f48-47b7-a0ed-560fa6876e62",
   "metadata": {},
   "outputs": [
    {
     "name": "stdout",
     "output_type": "stream",
     "text": [
      "/home/macbuse/Documents/ELLIPTIC\n"
     ]
    }
   ],
   "source": [
    "cd /home/macbuse/Documents/ELLIPTIC"
   ]
  },
  {
   "cell_type": "code",
   "execution_count": 63,
   "id": "2386dfc0-c313-43e3-bfe0-d481105f25ce",
   "metadata": {},
   "outputs": [],
   "source": [
    "import numpy as np\n",
    "import matplotlib.pyplot as plt\n",
    "\n",
    "from mpmath import jtheta, pi, exp, sqrt, polyroots, agm, log\n"
   ]
  },
  {
   "cell_type": "markdown",
   "id": "31c0bfb7-fd3e-4090-a69e-e5b4005578f7",
   "metadata": {},
   "source": [
    "$$ \\wp (z,\\tau )=\\left(\\pi \\theta _{2}(0,q)\\theta _{3}(0,q){\\frac {\\theta _{4}(\\pi z,q)}{\\theta _{1}(\\pi z,q)}}\\right)^{2}-{\\frac {\\pi ^{2}}{3}}\\left(\\theta _{2}^{4}(0,q)+\\theta _{3}^{4}(0,q)\\right)$$"
   ]
  },
  {
   "cell_type": "code",
   "execution_count": 98,
   "id": "fa1ea917-5ddc-4422-9c88-daa157dd4883",
   "metadata": {},
   "outputs": [],
   "source": [
    "from mpmath import jtheta, pi, exp, sqrt, polyroots, agm, log\n",
    "\n",
    "def elliptic_p(q):\n",
    "    q = exp(np.pi*1J*tau)\n",
    "    # constant in z so precalculate\n",
    "    tt = pi**2/3 * (jtheta(2,0,q)**4 + jtheta(3,0,q)**4)\n",
    "    ff = pi * jtheta(2,0,q) * jtheta(3,0,q) \n",
    "    f = lambda z : (ff * jtheta(4,pi*z,q) / jtheta(1,pi*z,q))**2 - tt\n",
    "    return f\n"
   ]
  },
  {
   "cell_type": "code",
   "execution_count": 99,
   "id": "7bdd6db8-5114-4eb7-848a-86f81faf133d",
   "metadata": {},
   "outputs": [],
   "source": [
    "tau = 1J\n",
    "\n",
    "f = elliptic_p(q)"
   ]
  },
  {
   "cell_type": "code",
   "execution_count": 100,
   "id": "0132cb8a-e6fa-4a48-b816-83555d1f8902",
   "metadata": {},
   "outputs": [
    {
     "data": {
      "text/plain": [
       "mpc(real='6.8751858180203715', imag='0.0')"
      ]
     },
     "execution_count": 100,
     "metadata": {},
     "output_type": "execute_result"
    }
   ],
   "source": [
    "f(.5)"
   ]
  },
  {
   "cell_type": "code",
   "execution_count": 43,
   "id": "bab23b30-b1d5-4aa1-b625-0150fe779c1b",
   "metadata": {},
   "outputs": [
    {
     "name": "stdout",
     "output_type": "stream",
     "text": [
      "1.0 (3.588235294117647+0.6470588235294118j) (3.588235294117647+0.6470588235294118j)\n",
      "(1.98229394275692 - 0.298092040144356j)\n"
     ]
    }
   ],
   "source": [
    "print(p_weierstrass_from_w1_w2(1., w2/w1)(z))"
   ]
  },
  {
   "cell_type": "code",
   "execution_count": 10,
   "id": "007200ce-3e10-48b4-b558-c067d3e4c381",
   "metadata": {},
   "outputs": [
    {
     "name": "stdout",
     "output_type": "stream",
     "text": [
      "1.0 (3.588235294117647+0.6470588235294118j) (3.588235294117647+0.6470588235294118j)\n"
     ]
    },
    {
     "data": {
      "text/plain": [
       "mpc(real='6.0319842459141935', imag='-0.071867146386110858')"
      ]
     },
     "execution_count": 10,
     "metadata": {},
     "output_type": "execute_result"
    }
   ],
   "source": [
    "p_weierstrass_from_tau(w2/w1)(.5)"
   ]
  },
  {
   "cell_type": "code",
   "execution_count": 109,
   "id": "2d262494-e546-495a-a23d-05ab6e212cd1",
   "metadata": {},
   "outputs": [
    {
     "data": {
      "text/plain": [
       "(mpc(real='-1.0', imag='1.495899156805095e-16'),\n",
       " mpc(real='0.50000000000000011', imag='-1.2539231017931536e-29'))"
      ]
     },
     "execution_count": 109,
     "metadata": {},
     "output_type": "execute_result"
    }
   ],
   "source": [
    "from mpmath import jtheta, pi, exp, sqrt, polyroots, agm, log\n",
    "\n",
    "def elliptic_p(tau):\n",
    "    q = exp(np.pi*1J*tau)\n",
    "    # constant in z so precalculate\n",
    "    add_const = pi**2/3 * (jtheta(2,0,q)**4 + jtheta(3,0,q)**4)\n",
    "    mul_const = pi * jtheta(2,0,q) * jtheta(3,0,q) \n",
    "    f = lambda z : (mul_const * jtheta(4,pi*z,q) / jtheta(1,pi*z,q))**2 - add_const\n",
    "    return f\n",
    "\n",
    "def get_lambda(tau):\n",
    "    #Using Komori-Sugawa, compute the position of punctures via Weierstrass pe-function(elliptic_p)\n",
    "    f = elliptic_p(tau)\n",
    "    e1 = f(0.5)\n",
    "    e2 = f(tau/2)\n",
    "    e3 = f((tau+1)/2)\n",
    "    \n",
    "    # this w is called  \"elliptic modular function\" or \"modular lambda function\".\n",
    "    return (e3 - e2)/(e1 - e2)\n",
    "\n",
    "get_lambda(1+1J), get_lambda(1J)"
   ]
  },
  {
   "cell_type": "code",
   "execution_count": 107,
   "id": "36d9ca9a-7421-4ac8-8d5b-a81bf712a476",
   "metadata": {},
   "outputs": [
    {
     "data": {
      "text/plain": [
       "mpc(real='-1.0', imag='1.495899156805095e-16')"
      ]
     },
     "execution_count": 107,
     "metadata": {},
     "output_type": "execute_result"
    }
   ],
   "source": []
  },
  {
   "cell_type": "code",
   "execution_count": 12,
   "id": "6b418cea-041b-4882-a554-07113617afb1",
   "metadata": {},
   "outputs": [
    {
     "ename": "ValueError",
     "evalue": "The ratio `w2/w1` must have a positive imaginary part.",
     "output_type": "error",
     "traceback": [
      "\u001b[0;31m---------------------------------------------------------------------------\u001b[0m",
      "\u001b[0;31mValueError\u001b[0m                                Traceback (most recent call last)",
      "\u001b[0;32m/tmp/ipykernel_24852/699899974.py\u001b[0m in \u001b[0;36m<module>\u001b[0;34m\u001b[0m\n\u001b[1;32m     35\u001b[0m     \u001b[0mZ\u001b[0m \u001b[0;34m=\u001b[0m \u001b[0mfd_axis\u001b[0m\u001b[0;34m(\u001b[0m\u001b[0mX\u001b[0m\u001b[0;34m)\u001b[0m\u001b[0;34m\u001b[0m\u001b[0;34m\u001b[0m\u001b[0m\n\u001b[1;32m     36\u001b[0m \u001b[0;34m\u001b[0m\u001b[0m\n\u001b[0;32m---> 37\u001b[0;31m     \u001b[0mTS\u001b[0m \u001b[0;34m=\u001b[0m \u001b[0;34m[\u001b[0m \u001b[0mget_lambda\u001b[0m\u001b[0;34m(\u001b[0m\u001b[0mw\u001b[0m\u001b[0;34m)\u001b[0m \u001b[0;32mfor\u001b[0m \u001b[0mw\u001b[0m \u001b[0;32min\u001b[0m \u001b[0mZ\u001b[0m\u001b[0;34m[\u001b[0m\u001b[0;34m:\u001b[0m\u001b[0;34m]\u001b[0m\u001b[0;34m]\u001b[0m\u001b[0;34m\u001b[0m\u001b[0;34m\u001b[0m\u001b[0m\n\u001b[0m\u001b[1;32m     38\u001b[0m     \u001b[0mW\u001b[0m  \u001b[0;34m=\u001b[0m \u001b[0mnp\u001b[0m\u001b[0;34m.\u001b[0m\u001b[0marray\u001b[0m\u001b[0;34m(\u001b[0m\u001b[0;34m[\u001b[0m\u001b[0mcomplex\u001b[0m\u001b[0;34m(\u001b[0m\u001b[0mz\u001b[0m\u001b[0;34m)\u001b[0m \u001b[0;32mfor\u001b[0m \u001b[0mz\u001b[0m \u001b[0;32min\u001b[0m \u001b[0mTS\u001b[0m\u001b[0;34m]\u001b[0m\u001b[0;34m)\u001b[0m\u001b[0;34m\u001b[0m\u001b[0;34m\u001b[0m\u001b[0m\n\u001b[1;32m     39\u001b[0m \u001b[0;34m\u001b[0m\u001b[0m\n",
      "\u001b[0;32m/tmp/ipykernel_24852/699899974.py\u001b[0m in \u001b[0;36m<listcomp>\u001b[0;34m(.0)\u001b[0m\n\u001b[1;32m     35\u001b[0m     \u001b[0mZ\u001b[0m \u001b[0;34m=\u001b[0m \u001b[0mfd_axis\u001b[0m\u001b[0;34m(\u001b[0m\u001b[0mX\u001b[0m\u001b[0;34m)\u001b[0m\u001b[0;34m\u001b[0m\u001b[0;34m\u001b[0m\u001b[0m\n\u001b[1;32m     36\u001b[0m \u001b[0;34m\u001b[0m\u001b[0m\n\u001b[0;32m---> 37\u001b[0;31m     \u001b[0mTS\u001b[0m \u001b[0;34m=\u001b[0m \u001b[0;34m[\u001b[0m \u001b[0mget_lambda\u001b[0m\u001b[0;34m(\u001b[0m\u001b[0mw\u001b[0m\u001b[0;34m)\u001b[0m \u001b[0;32mfor\u001b[0m \u001b[0mw\u001b[0m \u001b[0;32min\u001b[0m \u001b[0mZ\u001b[0m\u001b[0;34m[\u001b[0m\u001b[0;34m:\u001b[0m\u001b[0;34m]\u001b[0m\u001b[0;34m]\u001b[0m\u001b[0;34m\u001b[0m\u001b[0;34m\u001b[0m\u001b[0m\n\u001b[0m\u001b[1;32m     38\u001b[0m     \u001b[0mW\u001b[0m  \u001b[0;34m=\u001b[0m \u001b[0mnp\u001b[0m\u001b[0;34m.\u001b[0m\u001b[0marray\u001b[0m\u001b[0;34m(\u001b[0m\u001b[0;34m[\u001b[0m\u001b[0mcomplex\u001b[0m\u001b[0;34m(\u001b[0m\u001b[0mz\u001b[0m\u001b[0;34m)\u001b[0m \u001b[0;32mfor\u001b[0m \u001b[0mz\u001b[0m \u001b[0;32min\u001b[0m \u001b[0mTS\u001b[0m\u001b[0;34m]\u001b[0m\u001b[0;34m)\u001b[0m\u001b[0;34m\u001b[0m\u001b[0;34m\u001b[0m\u001b[0m\n\u001b[1;32m     39\u001b[0m \u001b[0;34m\u001b[0m\u001b[0m\n",
      "\u001b[0;32m/tmp/ipykernel_24852/2211614965.py\u001b[0m in \u001b[0;36mget_lambda\u001b[0;34m(w)\u001b[0m\n\u001b[1;32m      4\u001b[0m \u001b[0;34m\u001b[0m\u001b[0m\n\u001b[1;32m      5\u001b[0m     \u001b[0;31m#Using Komori-Sugawa, we compute the position of punctures via Weierstrass pe-function(elliptic_p)\u001b[0m\u001b[0;34m\u001b[0m\u001b[0;34m\u001b[0m\u001b[0;34m\u001b[0m\u001b[0m\n\u001b[0;32m----> 6\u001b[0;31m     \u001b[0me1\u001b[0m \u001b[0;34m=\u001b[0m \u001b[0mtau2p\u001b[0m\u001b[0;34m(\u001b[0m\u001b[0;36m0.5\u001b[0m\u001b[0;34m)\u001b[0m\u001b[0;34m\u001b[0m\u001b[0;34m\u001b[0m\u001b[0m\n\u001b[0m\u001b[1;32m      7\u001b[0m     \u001b[0me2\u001b[0m \u001b[0;34m=\u001b[0m \u001b[0mtau2p\u001b[0m\u001b[0;34m(\u001b[0m\u001b[0mtau\u001b[0m\u001b[0;34m/\u001b[0m\u001b[0;36m2\u001b[0m\u001b[0;34m)\u001b[0m\u001b[0;34m\u001b[0m\u001b[0;34m\u001b[0m\u001b[0m\n\u001b[1;32m      8\u001b[0m     \u001b[0me3\u001b[0m \u001b[0;34m=\u001b[0m \u001b[0mtau2p\u001b[0m\u001b[0;34m(\u001b[0m\u001b[0;34m(\u001b[0m\u001b[0mtau\u001b[0m\u001b[0;34m+\u001b[0m\u001b[0;36m1\u001b[0m\u001b[0;34m)\u001b[0m\u001b[0;34m/\u001b[0m\u001b[0;36m2\u001b[0m\u001b[0;34m)\u001b[0m\u001b[0;34m\u001b[0m\u001b[0;34m\u001b[0m\u001b[0m\n",
      "\u001b[0;32m~/Documents/ELLIPTIC/weierstrassElliptic.py\u001b[0m in \u001b[0;36mp_weierstrass_from_tau\u001b[0;34m(tau)\u001b[0m\n",
      "\u001b[0;32m~/Documents/ELLIPTIC/weierstrassElliptic.py\u001b[0m in \u001b[0;36mp_weierstrass_from_w1_w2\u001b[0;34m(w1, w2)\u001b[0m\n\u001b[1;32m     71\u001b[0m     \u001b[0mw2\u001b[0m \u001b[0;34m=\u001b[0m \u001b[0;36m1.0\u001b[0m \u001b[0;34m+\u001b[0m \u001b[0;36m15.0j\u001b[0m\u001b[0;34m\u001b[0m\u001b[0;34m\u001b[0m\u001b[0m\n\u001b[1;32m     72\u001b[0m     \u001b[0mprint\u001b[0m\u001b[0;34m(\u001b[0m\u001b[0mp_weierstrass_from_w1_w2\u001b[0m\u001b[0;34m(\u001b[0m\u001b[0mw1\u001b[0m\u001b[0;34m,\u001b[0m \u001b[0mw2\u001b[0m\u001b[0;34m)\u001b[0m\u001b[0;34m(\u001b[0m\u001b[0mz\u001b[0m\u001b[0;34m)\u001b[0m\u001b[0;34m)\u001b[0m\u001b[0;34m\u001b[0m\u001b[0;34m\u001b[0m\u001b[0m\n\u001b[0;32m---> 73\u001b[0;31m     \u001b[0;31m# (0.0076936368424553 - 0.498821838483149j)\u001b[0m\u001b[0;34m\u001b[0m\u001b[0;34m\u001b[0m\u001b[0;34m\u001b[0m\u001b[0m\n\u001b[0m\u001b[1;32m     74\u001b[0m \u001b[0;34m\u001b[0m\u001b[0m\n\u001b[1;32m     75\u001b[0m     \u001b[0mprint\u001b[0m\u001b[0;34m(\u001b[0m\u001b[0mp_weierstrass_from_tau\u001b[0m\u001b[0;34m(\u001b[0m\u001b[0;36m1\u001b[0m \u001b[0;34m+\u001b[0m \u001b[0;36m4j\u001b[0m\u001b[0;34m)\u001b[0m\u001b[0;34m(\u001b[0m\u001b[0mz\u001b[0m\u001b[0;34m)\u001b[0m\u001b[0;34m)\u001b[0m\u001b[0;34m\u001b[0m\u001b[0;34m\u001b[0m\u001b[0m\n",
      "\u001b[0;31mValueError\u001b[0m: The ratio `w2/w1` must have a positive imaginary part."
     ]
    },
    {
     "data": {
      "image/png": "[encoded data removed]",
      "text/plain": [
       "<Figure size 2160x720 with 1 Axes>"
      ]
     },
     "metadata": {
      "needs_background": "light"
     },
     "output_type": "display_data"
    }
   ],
   "source": [
    "def fd_axis(A, num_pts=200):\n",
    "    ''''find a fundamental domain for \n",
    "    A acting on its axis'''\n",
    "    \n",
    "    ta = abs(A.trace())\n",
    "    if ta < 3:  return \"not Anosov\"\n",
    "    \n",
    "    # not efficient: find the power of A in Gamma(2)\n",
    "    X = A.copy()\n",
    "    for k in range(1,4):\n",
    "      \n",
    "        if np.all( (X % 2) == np.array([[1,0],[0,1]]) ): break\n",
    "        X = A @ X\n",
    "    \n",
    "    #this allows one to determine the angle range using trig\n",
    "    delta = np.arccos(2/np.abs(X.trace())) \n",
    "    T = np.linspace(np.pi/2 - delta , np.pi/2 + delta, num_pts)\n",
    "            \n",
    "    # Hyperbolic geodesic axis of A connecting roots of Az - z = 0\n",
    "    center = (A[0,0]- A[1,1])/(A[0,1]*2)\n",
    "    radius = np.sqrt((A[0,0] - A[1,1])**2 + 4*A[1,0]*A[0,1])/(A[0,1]*2)\n",
    "    \n",
    "    \n",
    "    return radius*np.exp(1J*T) + center\n",
    "\n",
    "A = np.array([[2,3],[1,2]])\n",
    "B = np.array([[2,1],[1,1]])\n",
    "C = np.array([[5,2],[2,1]])\n",
    "\n",
    "fig, ax  = plt.subplots(1, figsize=(30, 10))\n",
    "ax.set_aspect('equal')\n",
    "\n",
    "for X  in  [A,B,C]:\n",
    "\n",
    "    Z = fd_axis(X)\n",
    "\n",
    "    TS = [ get_lambda(w) for w in Z[:]]\n",
    "    W  = np.array([complex(z) for z in TS])\n",
    "\n",
    "    ax.plot(W.real, W.imag,color=\"blue\", lw = 0.5);"
   ]
  },
  {
   "cell_type": "code",
   "execution_count": 13,
   "id": "75e35d2f-3294-4543-8d13-50927d9eb11f",
   "metadata": {},
   "outputs": [
    {
     "ename": "ValueError",
     "evalue": "The ratio `w2/w1` must have a positive imaginary part.",
     "output_type": "error",
     "traceback": [
      "\u001b[0;31m---------------------------------------------------------------------------\u001b[0m",
      "\u001b[0;31mValueError\u001b[0m                                Traceback (most recent call last)",
      "\u001b[0;32m/tmp/ipykernel_24852/980517537.py\u001b[0m in \u001b[0;36m<module>\u001b[0;34m\u001b[0m\n\u001b[0;32m----> 1\u001b[0;31m \u001b[0mget_lambda\u001b[0m\u001b[0;34m(\u001b[0m\u001b[0;36m1J\u001b[0m\u001b[0;34m)\u001b[0m\u001b[0;34m\u001b[0m\u001b[0;34m\u001b[0m\u001b[0m\n\u001b[0m",
      "\u001b[0;32m/tmp/ipykernel_24852/2211614965.py\u001b[0m in \u001b[0;36mget_lambda\u001b[0;34m(w)\u001b[0m\n\u001b[1;32m      4\u001b[0m \u001b[0;34m\u001b[0m\u001b[0m\n\u001b[1;32m      5\u001b[0m     \u001b[0;31m#Using Komori-Sugawa, we compute the position of punctures via Weierstrass pe-function(elliptic_p)\u001b[0m\u001b[0;34m\u001b[0m\u001b[0;34m\u001b[0m\u001b[0;34m\u001b[0m\u001b[0m\n\u001b[0;32m----> 6\u001b[0;31m     \u001b[0me1\u001b[0m \u001b[0;34m=\u001b[0m \u001b[0mtau2p\u001b[0m\u001b[0;34m(\u001b[0m\u001b[0;36m0.5\u001b[0m\u001b[0;34m)\u001b[0m\u001b[0;34m\u001b[0m\u001b[0;34m\u001b[0m\u001b[0m\n\u001b[0m\u001b[1;32m      7\u001b[0m     \u001b[0me2\u001b[0m \u001b[0;34m=\u001b[0m \u001b[0mtau2p\u001b[0m\u001b[0;34m(\u001b[0m\u001b[0mtau\u001b[0m\u001b[0;34m/\u001b[0m\u001b[0;36m2\u001b[0m\u001b[0;34m)\u001b[0m\u001b[0;34m\u001b[0m\u001b[0;34m\u001b[0m\u001b[0m\n\u001b[1;32m      8\u001b[0m     \u001b[0me3\u001b[0m \u001b[0;34m=\u001b[0m \u001b[0mtau2p\u001b[0m\u001b[0;34m(\u001b[0m\u001b[0;34m(\u001b[0m\u001b[0mtau\u001b[0m\u001b[0;34m+\u001b[0m\u001b[0;36m1\u001b[0m\u001b[0;34m)\u001b[0m\u001b[0;34m/\u001b[0m\u001b[0;36m2\u001b[0m\u001b[0;34m)\u001b[0m\u001b[0;34m\u001b[0m\u001b[0;34m\u001b[0m\u001b[0m\n",
      "\u001b[0;32m~/Documents/ELLIPTIC/weierstrassElliptic.py\u001b[0m in \u001b[0;36mp_weierstrass_from_tau\u001b[0;34m(tau)\u001b[0m\n",
      "\u001b[0;32m~/Documents/ELLIPTIC/weierstrassElliptic.py\u001b[0m in \u001b[0;36mp_weierstrass_from_w1_w2\u001b[0;34m(w1, w2)\u001b[0m\n\u001b[1;32m     71\u001b[0m     \u001b[0mw2\u001b[0m \u001b[0;34m=\u001b[0m \u001b[0;36m1.0\u001b[0m \u001b[0;34m+\u001b[0m \u001b[0;36m15.0j\u001b[0m\u001b[0;34m\u001b[0m\u001b[0;34m\u001b[0m\u001b[0m\n\u001b[1;32m     72\u001b[0m     \u001b[0mprint\u001b[0m\u001b[0;34m(\u001b[0m\u001b[0mp_weierstrass_from_w1_w2\u001b[0m\u001b[0;34m(\u001b[0m\u001b[0mw1\u001b[0m\u001b[0;34m,\u001b[0m \u001b[0mw2\u001b[0m\u001b[0;34m)\u001b[0m\u001b[0;34m(\u001b[0m\u001b[0mz\u001b[0m\u001b[0;34m)\u001b[0m\u001b[0;34m)\u001b[0m\u001b[0;34m\u001b[0m\u001b[0;34m\u001b[0m\u001b[0m\n\u001b[0;32m---> 73\u001b[0;31m     \u001b[0;31m# (0.0076936368424553 - 0.498821838483149j)\u001b[0m\u001b[0;34m\u001b[0m\u001b[0;34m\u001b[0m\u001b[0;34m\u001b[0m\u001b[0m\n\u001b[0m\u001b[1;32m     74\u001b[0m \u001b[0;34m\u001b[0m\u001b[0m\n\u001b[1;32m     75\u001b[0m     \u001b[0mprint\u001b[0m\u001b[0;34m(\u001b[0m\u001b[0mp_weierstrass_from_tau\u001b[0m\u001b[0;34m(\u001b[0m\u001b[0;36m1\u001b[0m \u001b[0;34m+\u001b[0m \u001b[0;36m4j\u001b[0m\u001b[0;34m)\u001b[0m\u001b[0;34m(\u001b[0m\u001b[0mz\u001b[0m\u001b[0;34m)\u001b[0m\u001b[0;34m)\u001b[0m\u001b[0;34m\u001b[0m\u001b[0;34m\u001b[0m\u001b[0m\n",
      "\u001b[0;31mValueError\u001b[0m: The ratio `w2/w1` must have a positive imaginary part."
     ]
    }
   ],
   "source": [
    "get_lambda(1J)"
   ]
  },
  {
   "cell_type": "code",
   "execution_count": null,
   "id": "fc2ce58e-6c06-4310-abd5-dba046c7eb59",
   "metadata": {},
   "outputs": [],
   "source": []
  }
 ],
 "metadata": {
  "kernelspec": {
   "display_name": "Python 3 (ipykernel)",
   "language": "python",
   "name": "python3"
  },
  "language_info": {
   "codemirror_mode": {
    "name": "ipython",
    "version": 3
   },
   "file_extension": ".py",
   "mimetype": "text/x-python",
   "name": "python",
   "nbconvert_exporter": "python",
   "pygments_lexer": "ipython3",
   "version": "3.8.12"
  },
  "widgets": {
   "application/vnd.jupyter.widget-state+json": {
    "state": {},
    "version_major": 2,
    "version_minor": 0
   }
  }
 },
 "nbformat": 4,
 "nbformat_minor": 5
}
